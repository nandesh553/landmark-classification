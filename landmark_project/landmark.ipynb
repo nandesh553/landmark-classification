{
 "cells": [
  {
   "cell_type": "markdown",
   "metadata": {
    "id": "pZcqq5uIS-vP"
   },
   "source": [
    "# Convolutional Neural Networks\n",
    "\n",
    "## Project: Write an Algorithm for Landmark Classification\n",
    "\n",
    "---\n",
    "\n",
    "In this notebook, some template code has already been provided for you, and you will need to implement additional functionality to successfully complete this project. You will not need to modify the included code beyond what is requested. Sections that begin with **'(IMPLEMENTATION)'** in the header indicate that the following block of code will require additional functionality which you must provide. Instructions will be provided for each section, and the specifics of the implementation are marked in the code block with a 'TODO' statement. Please be sure to read the instructions carefully! \n",
    "\n",
    "> **Note**: Once you have completed all the code implementations, you need to finalize your work by exporting the Jupyter Notebook as an HTML document. Before exporting the notebook to HTML, all the code cells need to have been run so that reviewers can see the final implementation and output. You can then export the notebook by using the menu above and navigating to **File -> Download as -> HTML (.html)**. Include the finished document along with this notebook as your submission.\n",
    "\n",
    "In addition to implementing code, there will be questions that you must answer which relate to the project and your implementation. Each section where you will answer a question is preceded by a **'Question X'** header. Carefully read each question and provide thorough answers in the following text boxes that begin with **'Answer:'**. Your project submission will be evaluated based on your answers to each of the questions and the implementation you provide.\n",
    "\n",
    ">**Note:** Code and Markdown cells can be executed using the **Shift + Enter** keyboard shortcut.  Markdown cells can be edited by double-clicking the cell to enter edit mode.\n",
    "\n",
    "The rubric contains _optional_ \"Stand Out Suggestions\" for enhancing the project beyond the minimum requirements. If you decide to pursue the \"Stand Out Suggestions\", you should include the code in this Jupyter notebook.\n",
    "\n",
    "---\n",
    "### Why We're Here\n",
    "\n",
    "Photo sharing and photo storage services like to have location data for each photo that is uploaded. With the location data, these services can build advanced features, such as automatic suggestion of relevant tags or automatic photo organization, which help provide a compelling user experience. Although a photo's location can often be obtained by looking at the photo's metadata, many photos uploaded to these services will not have location metadata available. This can happen when, for example, the camera capturing the picture does not have GPS or if a photo's metadata is scrubbed due to privacy concerns.\n",
    "\n",
    "If no location metadata for an image is available, one way to infer the location is to detect and classify a discernible landmark in the image. Given the large number of landmarks across the world and the immense volume of images that are uploaded to photo sharing services, using human judgement to classify these landmarks would not be feasible.\n",
    "\n",
    "In this notebook, you will take the first steps towards addressing this problem by building models to automatically predict the location of the image based on any landmarks depicted in the image. At the end of this project, your code will accept any user-supplied image as input and suggest the top k most relevant landmarks from 50 possible landmarks from across the world. The image below displays a potential sample output of your finished project.\n",
    "\n",
    "![Sample landmark classification output](images/sample_landmark_output.png)\n",
    "\n",
    "\n",
    "### The Road Ahead\n",
    "\n",
    "We break the notebook into separate steps.  Feel free to use the links below to navigate the notebook.\n",
    "\n",
    "* [Step 0](#step0): Download Datasets and Install Python Modules\n",
    "* [Step 1](#step1): Create a CNN to Classify Landmarks (from Scratch)\n",
    "* [Step 2](#step2): Create a CNN to Classify Landmarks (using Transfer Learning)\n",
    "* [Step 3](#step3): Write Your Landmark Prediction Algorithm\n",
    "\n",
    "---\n",
    "<a id='step0'></a>\n",
    "## Step 0: Download Datasets and Install Python Modules\n",
    "\n",
    "**Note: if you are using the Udacity workspace, *YOU CAN SKIP THIS STEP*. The dataset can be found in the `/data` folder and all required Python modules have been installed in the workspace.**\n",
    "\n",
    "Download the [landmark dataset](https://udacity-dlnfd.s3-us-west-1.amazonaws.com/datasets/landmark_images.zip).\n",
    "Unzip the folder and place it in this project's home directory, at the location `/landmark_images`.\n",
    "\n",
    "Install the following Python modules:\n",
    "* cv2\n",
    "* matplotlib\n",
    "* numpy\n",
    "* PIL\n",
    "* torch\n",
    "* torchvision"
   ]
  },
  {
   "cell_type": "markdown",
   "metadata": {
    "id": "v-j37uD_S-vV"
   },
   "source": [
    "---\n",
    "\n",
    "<a id='step1'></a>\n",
    "## Step 1: Create a CNN to Classify Landmarks (from Scratch)\n",
    "\n",
    "In this step, you will create a CNN that classifies landmarks.  You must create your CNN _from scratch_ (so, you can't use transfer learning _yet_!), and you must attain a test accuracy of at least 20%.\n",
    "\n",
    "Although 20% may seem low at first glance, it seems more reasonable after realizing how difficult of a problem this is. Many times, an image that is taken at a landmark captures a fairly mundane image of an animal or plant, like in the following picture.\n",
    "\n",
    "<img src=\"images/train/00.Haleakala_National_Park/084c2aa50d0a9249.jpg\" alt=\"Bird in Haleakalā National Park\" style=\"width: 400px;\"/>\n",
    "\n",
    "Just by looking at that image alone, would you have been able to guess that it was taken at the Haleakalā National Park in Hawaii?\n",
    "\n",
    "An accuracy of 20% is significantly better than random guessing, which would provide an accuracy of just 2%. In Step 2 of this notebook, you will have the opportunity to greatly improve accuracy by using transfer learning to create a CNN.\n",
    "\n",
    "Remember that practice is far ahead of theory in deep learning.  Experiment with many different architectures, and trust your intuition.  And, of course, have fun!"
   ]
  },
  {
   "cell_type": "markdown",
   "metadata": {
    "id": "rjLNNC8tS-vW"
   },
   "source": [
    "\n",
    "### (IMPLEMENTATION) Specify Data Loaders for the Landmark Dataset\n",
    "\n",
    "Use the code cell below to create three separate [data loaders](http://pytorch.org/docs/stable/data.html#torch.utils.data.DataLoader): one for training data, one for validation data, and one for test data. Randomly split the images located at `landmark_images/train` to create the train and validation data loaders, and use the images located at `landmark_images/test` to create the test data loader.\n",
    "\n",
    "All three of your data loaders should be accessible via a dictionary named `loaders_scratch`. Your train data loader should be at `loaders_scratch['train']`, your validation data loader should be at `loaders_scratch['valid']`, and your test data loader should be at `loaders_scratch['test']`.\n",
    "\n",
    "You may find [this documentation on custom datasets](https://pytorch.org/docs/stable/torchvision/datasets.html#datasetfolder) to be a useful resource.  If you are interested in augmenting your training and/or validation data, check out the wide variety of [transforms](http://pytorch.org/docs/stable/torchvision/transforms.html?highlight=transform)!"
   ]
  },
  {
   "cell_type": "code",
   "execution_count": null,
   "metadata": {
    "id": "bmJ_8-SghNFk",
    "tags": []
   },
   "outputs": [],
   "source": [
    "%cd ../data\n",
    "!wget -O landmark_dataset.zip https://udacity-dlnfd.s3-us-west-1.amazonaws.com/datasets/landmark_images.zip\n",
    "!unzip landmark_dataset.zip\n",
    "%cd ../landmark_project/"
   ]
  },
  {
   "cell_type": "code",
   "execution_count": 1,
   "metadata": {
    "executionInfo": {
     "elapsed": 4977,
     "status": "ok",
     "timestamp": 1632542080523,
     "user": {
      "displayName": "Nandeshwar Gupta",
      "photoUrl": "https://lh3.googleusercontent.com/a-/AOh14GjIXGwdxcuLh8UU0gGo-MpPzGduTnXJoNDTm0sJiGY=s64",
      "userId": "18345196180311839276"
     },
     "user_tz": -330
    },
    "id": "rDmstKuPgEZW"
   },
   "outputs": [],
   "source": [
    "import time\n",
    "\n",
    "import matplotlib.pyplot as plt\n",
    "import numpy as np\n",
    "import torch\n",
    "import torch.functional as F\n",
    "import torch.nn as nn\n",
    "\n",
    "from sklearn.model_selection import train_test_split\n",
    "from torch.utils.data import Dataset, DataLoader, Subset\n",
    "from torchvision import datasets, models, transforms\n",
    "\n",
    "%matplotlib inline"
   ]
  },
  {
   "cell_type": "code",
   "execution_count": 2,
   "metadata": {
    "executionInfo": {
     "elapsed": 11,
     "status": "ok",
     "timestamp": 1632542080524,
     "user": {
      "displayName": "Nandeshwar Gupta",
      "photoUrl": "https://lh3.googleusercontent.com/a-/AOh14GjIXGwdxcuLh8UU0gGo-MpPzGduTnXJoNDTm0sJiGY=s64",
      "userId": "18345196180311839276"
     },
     "user_tz": -330
    },
    "id": "dx1pCHtCQwDC"
   },
   "outputs": [],
   "source": [
    "params = {\n",
    "  \"TEST_SIZE\": 0.2,\n",
    "  \"BATCH_SIZE\": 32,\n",
    "  \"SEED\": 42\n",
    "}"
   ]
  },
  {
   "cell_type": "code",
   "execution_count": 3,
   "metadata": {
    "executionInfo": {
     "elapsed": 9,
     "status": "ok",
     "timestamp": 1632542080524,
     "user": {
      "displayName": "Nandeshwar Gupta",
      "photoUrl": "https://lh3.googleusercontent.com/a-/AOh14GjIXGwdxcuLh8UU0gGo-MpPzGduTnXJoNDTm0sJiGY=s64",
      "userId": "18345196180311839276"
     },
     "user_tz": -330
    },
    "id": "Pyr-n_vLS-vX"
   },
   "outputs": [],
   "source": [
    "### TODO: Write data loaders for training, validation, and test sets\n",
    "## Specify appropriate transforms, and batch_sizes\n",
    "\n",
    "loaders_scratch = {'train': None, 'valid': None, 'test': None}\n",
    "\n",
    "transform = transforms.Compose([\n",
    "                                transforms.ToTensor(),\n",
    "                                transforms.Resize(size=(224, 224)),\n",
    "                                transforms.RandomHorizontalFlip(0.2),\n",
    "                                transforms.RandomRotation(10),\n",
    "                                transforms.Normalize((0.5, 0.5, 0.5), (0.5, 0.5, 0.5)),\n",
    "])\n",
    "\n",
    "train_dataset = datasets.ImageFolder(\"../data/landmark_images/train\", transform=transform)\n",
    "test_dataset = datasets.ImageFolder(\"../data/landmark_images/test\", transform=transform)\n",
    "\n",
    "targets = train_dataset.targets\n",
    "train_idx, validation_idx = train_test_split(\n",
    "    np.arange(len(targets)),\n",
    "    test_size=params['TEST_SIZE'],\n",
    "    shuffle=True,\n",
    "    random_state=params['SEED'],\n",
    "    stratify=targets)\n",
    "\n",
    "# generate subset based on indices\n",
    "train_split = Subset(train_dataset, train_idx)\n",
    "validation_split = Subset(train_dataset, validation_idx)\n",
    "\n",
    "loaders_scratch['train'] = DataLoader(train_split, batch_size=params['BATCH_SIZE'])\n",
    "loaders_scratch['valid'] = DataLoader(validation_split, batch_size=params['BATCH_SIZE'])\n",
    "loaders_scratch['test'] = DataLoader(test_dataset, batch_size=params['BATCH_SIZE'])"
   ]
  },
  {
   "cell_type": "markdown",
   "metadata": {
    "id": "lNvEh54wS-vY"
   },
   "source": [
    "**Question 1:** Describe your chosen procedure for preprocessing the data. \n",
    "- How does your code resize the images (by cropping, stretching, etc)?  What size did you pick for the input tensor, and why?\n",
    "- Did you decide to augment the dataset?  If so, how (through translations, flips, rotations, etc)?  If not, why not?"
   ]
  },
  {
   "cell_type": "markdown",
   "metadata": {
    "id": "Ljwdy6GUS-vZ"
   },
   "source": [
    "**Answer**: \n",
    "* The resize was done using transform.Resize to 224 because on average the size of images because it is standard practice. Also the resizing is necessary because images are of variable length.\n",
    "* Yes, I added the augmentations using horizontal_flip and rotation because in real world it is possible that images are not provided as in trainig data. It completely unpredictable what type of image is pased to the model."
   ]
  },
  {
   "cell_type": "markdown",
   "metadata": {
    "id": "j6roPZZOS-vZ"
   },
   "source": [
    "### (IMPLEMENTATION) Visualize a Batch of Training Data\n",
    "\n",
    "Use the code cell below to retrieve a batch of images from your train data loader, display at least 5 images simultaneously, and label each displayed image with its class name (e.g., \"Golden Gate Bridge\").\n",
    "\n",
    "Visualizing the output of your data loader is a great way to ensure that your data loading and preprocessing are working as expected."
   ]
  },
  {
   "cell_type": "code",
   "execution_count": 4,
   "metadata": {
    "colab": {
     "base_uri": "https://localhost:8080/",
     "height": 358
    },
    "executionInfo": {
     "elapsed": 2237,
     "status": "ok",
     "timestamp": 1632216574814,
     "user": {
      "displayName": "Nandeshwar Gupta",
      "photoUrl": "https://lh3.googleusercontent.com/a-/AOh14GjIXGwdxcuLh8UU0gGo-MpPzGduTnXJoNDTm0sJiGY=s64",
      "userId": "18345196180311839276"
     },
     "user_tz": -330
    },
    "id": "bcK8fjd8S-va",
    "outputId": "84620af6-d33a-40c4-f6fd-1a776c63cda2"
   },
   "outputs": [
    {
     "name": "stderr",
     "output_type": "stream",
     "text": [
      "Clipping input data to the valid range for imshow with RGB data ([0..1] for floats or [0..255] for integers).\n"
     ]
    },
    {
     "data": {
      "text/plain": [
       "<matplotlib.image.AxesImage at 0x7f15b1ed0160>"
      ]
     },
     "execution_count": 4,
     "metadata": {},
     "output_type": "execute_result"
    },
    {
     "data": {
      "image/png": "[encoded data removed]",
      "text/plain": [
       "<Figure size 360x360 with 1 Axes>"
      ]
     },
     "metadata": {
      "needs_background": "light"
     },
     "output_type": "display_data"
    }
   ],
   "source": [
    "## TODO: visualize a batch of the train data loader\n",
    "\n",
    "## the class names can be accessed at the `classes` attribute\n",
    "## of your dataset object (e.g., `train_dataset.classes`)\n",
    "images = iter(loaders_scratch['train'])\n",
    "images, labels = next(images)\n",
    "images = images.numpy()\n",
    "\n",
    "# get one image from the batch\n",
    "img = np.squeeze(images[0]).transpose((1,2,0))\n",
    "\n",
    "fig = plt.figure(figsize = (5,5)) \n",
    "ax = fig.add_subplot(111)\n",
    "ax.imshow(img)"
   ]
  },
  {
   "cell_type": "markdown",
   "metadata": {
    "id": "OvtPnM0vS-vb"
   },
   "source": [
    "### Initialize use_cuda variable"
   ]
  },
  {
   "cell_type": "code",
   "execution_count": 5,
   "metadata": {
    "id": "aaljKUx2S-vb"
   },
   "outputs": [],
   "source": [
    "# useful variable that tells us whether we should use the GPU\n",
    "use_cuda = torch.cuda.is_available()"
   ]
  },
  {
   "cell_type": "markdown",
   "metadata": {
    "id": "zB7zVm_BS-vb"
   },
   "source": [
    "### (IMPLEMENTATION) Specify Loss Function and Optimizer\n",
    "\n",
    "Use the next code cell to specify a [loss function](http://pytorch.org/docs/stable/nn.html#loss-functions) and [optimizer](http://pytorch.org/docs/stable/optim.html).  Save the chosen loss function as `criterion_scratch`, and fill in the function `get_optimizer_scratch` below."
   ]
  },
  {
   "cell_type": "code",
   "execution_count": 6,
   "metadata": {
    "id": "xNTnYjmoS-vc"
   },
   "outputs": [],
   "source": [
    "## TODO: select loss function\n",
    "criterion_scratch = nn.CrossEntropyLoss()\n",
    "\n",
    "def get_optimizer_scratch(model):\n",
    "    ## TODO: select and return an optimizer\n",
    "    optimizer = torch.optim.Adam(model.parameters(), lr=0.0001)\n",
    "    return optimizer    "
   ]
  },
  {
   "cell_type": "markdown",
   "metadata": {
    "id": "QkjPS9-9S-vc"
   },
   "source": [
    "### (IMPLEMENTATION) Model Architecture\n",
    "\n",
    "Create a CNN to classify images of landmarks.  Use the template in the code cell below."
   ]
  },
  {
   "cell_type": "code",
   "execution_count": 7,
   "metadata": {
    "colab": {
     "base_uri": "https://localhost:8080/"
    },
    "executionInfo": {
     "elapsed": 2455,
     "status": "ok",
     "timestamp": 1632216582549,
     "user": {
      "displayName": "Nandeshwar Gupta",
      "photoUrl": "https://lh3.googleusercontent.com/a-/AOh14GjIXGwdxcuLh8UU0gGo-MpPzGduTnXJoNDTm0sJiGY=s64",
      "userId": "18345196180311839276"
     },
     "user_tz": -330
    },
    "id": "t7T4lIArS-vd",
    "outputId": "5962e192-0b46-4d35-f459-c612acffdbc5"
   },
   "outputs": [
    {
     "data": {
      "text/plain": [
       "Net(\n",
       "  (conv_1): Conv2d(3, 64, kernel_size=(3, 3), stride=(1, 1), padding=(1, 1))\n",
       "  (conv_2): Conv2d(64, 128, kernel_size=(3, 3), stride=(1, 1), padding=(1, 1))\n",
       "  (conv_3): Conv2d(128, 256, kernel_size=(3, 3), stride=(1, 1), padding=(1, 1))\n",
       "  (conv_4): Conv2d(256, 512, kernel_size=(3, 3), stride=(1, 1), padding=(1, 1))\n",
       "  (pool): MaxPool2d(kernel_size=2, stride=2, padding=0, dilation=1, ceil_mode=False)\n",
       "  (droput): Dropout(p=0.5, inplace=False)\n",
       "  (fc1): Linear(in_features=100352, out_features=512, bias=True)\n",
       "  (fc2): Linear(in_features=512, out_features=50, bias=True)\n",
       "  (relu): ReLU()\n",
       ")"
      ]
     },
     "execution_count": 7,
     "metadata": {},
     "output_type": "execute_result"
    }
   ],
   "source": [
    "import torch.nn as nn\n",
    "\n",
    "# define the CNN architecture\n",
    "class Net(nn.Module):\n",
    "    ## TODO: choose an architecture, and complete the class\n",
    "    def __init__(self):\n",
    "        super(Net, self).__init__()\n",
    "        \n",
    "        in_1 = 64\n",
    "        in_2 = 128\n",
    "        in_3 = 256\n",
    "        in_4 = 512\n",
    "\n",
    "        ## Define layers of a CNN\n",
    "        self.conv_1 = nn.Conv2d(3, in_1, 3, padding=1)\n",
    "        # 112\n",
    "        self.conv_2 = nn.Conv2d(in_1, in_2, 3, padding=1)\n",
    "        # 56\n",
    "        self.conv_3 = nn.Conv2d(in_2, in_3, 3, padding=1)\n",
    "        # 28\n",
    "        self.conv_4 = nn.Conv2d(in_3, in_4, 3, padding=1)\n",
    "        # 14\n",
    "\n",
    "        self.pool = nn.MaxPool2d(2, 2)\n",
    "        self.droput = nn.Dropout(0.5)\n",
    "        \n",
    "        in_size = 14 * 14 * in_4\n",
    "        self.fc1 = nn.Linear(in_size, 512)\n",
    "        self.fc2 = nn.Linear(512, 50)\n",
    "\n",
    "        self.relu = nn.ReLU()\n",
    "\n",
    "        \n",
    "    def forward(self, x):\n",
    "        ## Define forward behavior\n",
    "        batch_size = x.size()[0]\n",
    "\n",
    "        x = self.pool(self.relu(self.conv_1(x)))\n",
    "        x = self.pool(self.relu(self.conv_2(x)))\n",
    "        x = self.pool(self.relu(self.conv_3(x)))\n",
    "        x = self.pool(self.relu(self.conv_4(x)))\n",
    "\n",
    "        x = x.view(batch_size, -1)\n",
    "\n",
    "        x = self.droput(x)\n",
    "        x = self.relu(self.fc1(x))\n",
    "        x = self.droput(x)\n",
    "        x = self.fc2(x)\n",
    "        \n",
    "        return x\n",
    "\n",
    "#-#-# Do NOT modify the code below this line. #-#-#\n",
    "\n",
    "# instantiate the CNN\n",
    "model_scratch = Net()\n",
    "\n",
    "# move tensors to GPU if CUDA is available\n",
    "if use_cuda:\n",
    "    model_scratch.cuda()\n",
    "\n",
    "model_scratch"
   ]
  },
  {
   "cell_type": "markdown",
   "metadata": {
    "id": "Q1dnE4BHS-vd"
   },
   "source": [
    "__Question 2:__ Outline the steps you took to get to your final CNN architecture and your reasoning at each step.  "
   ]
  },
  {
   "cell_type": "markdown",
   "metadata": {
    "id": "b9TVCFmTS-vd"
   },
   "source": [
    "__Answer:__  \n",
    "1. Decided to increase the channels gradually to capture the features.\n",
    "2. Kept 4 layers in the architecture for nn to be deep enough to capture the features and not deep enough to overfit.\n",
    "3. Introduced pooling layer to keep the size of model in check and avoid over fitting\n",
    "4. We add two fully connected layer to learn for classification\n",
    "5. Droput to avoid overfitting layer\n",
    "6. Activation fucntion as RELU because it performs generally well"
   ]
  },
  {
   "cell_type": "markdown",
   "metadata": {
    "id": "KP79G0PbS-vd"
   },
   "source": [
    "### (IMPLEMENTATION) Implement the Training Algorithm\n",
    "\n",
    "Implement your training algorithm in the code cell below.  [Save the final model parameters](http://pytorch.org/docs/master/notes/serialization.html) at the filepath stored in the variable `save_path`."
   ]
  },
  {
   "cell_type": "code",
   "execution_count": 8,
   "metadata": {
    "id": "dRIQY8XIS-ve"
   },
   "outputs": [],
   "source": [
    "\n",
    "def train(n_epochs, loaders, model, optimizer, criterion, use_cuda, save_path):\n",
    "    \"\"\"returns trained model\"\"\"\n",
    "    # initialize tracker for minimum validation loss\n",
    "    valid_loss_min = np.Inf \n",
    "    \n",
    "    for epoch in range(1, n_epochs+1):\n",
    "        start_time = time.time()\n",
    "        \n",
    "        # initialize variables to monitor training and validation loss\n",
    "        train_loss = 0.0\n",
    "        valid_loss = 0.0\n",
    "        \n",
    "        ###################\n",
    "        # train the model #\n",
    "        ###################\n",
    "        # set the module to training mode\n",
    "        model.train()\n",
    "        for batch_idx, (data, target) in enumerate(loaders['train']):\n",
    "            # move to GPU\n",
    "            if use_cuda:\n",
    "                data, target = data.cuda(), target.cuda()\n",
    "\n",
    "            ## TODO: find the loss and update the model parameters accordingly\n",
    "            ## record the average training loss, using something like\n",
    "            ## train_loss = train_loss + ((1 / (batch_idx + 1)) * (loss.data.item() - train_loss))\n",
    "            \n",
    "            optimizer.zero_grad()\n",
    "\n",
    "            output = model(data)\n",
    "            loss = criterion_scratch(output, target)\n",
    "\n",
    "            loss.backward()\n",
    "            optimizer.step()\n",
    "            \n",
    "            train_loss = train_loss + ((1 / (batch_idx + 1)) * (loss.data.item() - train_loss))\n",
    "\n",
    "        torch.cuda.empty_cache()\n",
    "        ######################    \n",
    "        # validate the model #\n",
    "        ######################\n",
    "        # set the model to evaluation mode\n",
    "        model.eval()\n",
    "        for batch_idx, (data, target) in enumerate(loaders['valid']):\n",
    "            # move to GPU\n",
    "            if use_cuda:\n",
    "                data, target = data.cuda(), target.cuda()\n",
    "\n",
    "            output = model(data)\n",
    "            loss = criterion_scratch(output, target)\n",
    "\n",
    "            ## TODO: update average validation loss \n",
    "            valid_loss = valid_loss + ((1 / (batch_idx + 1)) * (loss.data.item() - valid_loss))\n",
    "\n",
    "        total_time = start_time - time.time()\n",
    "        # print training/validation statistics \n",
    "        print('Epoch: {} \\tTraining Loss: {:.6f} \\tValidation Loss: {:.6f}. Time taken {}'.format(\n",
    "            epoch, \n",
    "            train_loss,\n",
    "            valid_loss,\n",
    "            total_time\n",
    "            ))\n",
    "\n",
    "        ## TODO: if the validation loss has decreased, save the model at the filepath stored in save_path\n",
    "        if valid_loss < valid_loss_min:\n",
    "            print(f\"Validationn loss reduced from {valid_loss_min: .6f} to{valid_loss: .6f}, saving model\")\n",
    "            valid_loss_min = valid_loss\n",
    "            torch.save(model.state_dict(), save_path)        \n",
    "        \n",
    "    return model"
   ]
  },
  {
   "cell_type": "markdown",
   "metadata": {
    "id": "pcPVbeY8S-vf"
   },
   "source": [
    "### (IMPLEMENTATION) Experiment with the Weight Initialization\n",
    "\n",
    "Use the code cell below to define a custom weight initialization, and then train with your weight initialization for a few epochs. Make sure that neither the training loss nor validation loss is `nan`.\n",
    "\n",
    "Later on, you will be able to see how this compares to training with PyTorch's default weight initialization."
   ]
  },
  {
   "cell_type": "code",
   "execution_count": 9,
   "metadata": {},
   "outputs": [
    {
     "name": "stdout",
     "output_type": "stream",
     "text": [
      "Epoch: 1 \tTraining Loss: 3.867903 \tValidation Loss: 3.702778. Time taken -63.707558393478394\n",
      "Validationn loss reduced from  inf to 3.702778, saving model\n",
      "Epoch: 2 \tTraining Loss: 3.624093 \tValidation Loss: 3.465199. Time taken -63.99508762359619\n",
      "Validationn loss reduced from  3.702778 to 3.465199, saving model\n",
      "Epoch: 3 \tTraining Loss: 3.413339 \tValidation Loss: 3.326944. Time taken -63.88941240310669\n",
      "Validationn loss reduced from  3.465199 to 3.326944, saving model\n",
      "Epoch: 4 \tTraining Loss: 3.221277 \tValidation Loss: 3.159111. Time taken -63.86681127548218\n",
      "Validationn loss reduced from  3.326944 to 3.159111, saving model\n",
      "Epoch: 5 \tTraining Loss: 3.012082 \tValidation Loss: 3.063202. Time taken -63.91702914237976\n",
      "Validationn loss reduced from  3.159111 to 3.063202, saving model\n",
      "Epoch: 6 \tTraining Loss: 2.796825 \tValidation Loss: 2.936380. Time taken -63.88452458381653\n",
      "Validationn loss reduced from  3.063202 to 2.936380, saving model\n",
      "Epoch: 7 \tTraining Loss: 2.626273 \tValidation Loss: 2.887372. Time taken -63.860859870910645\n",
      "Validationn loss reduced from  2.936380 to 2.887372, saving model\n",
      "Epoch: 8 \tTraining Loss: 2.452551 \tValidation Loss: 2.787484. Time taken -63.875184774398804\n",
      "Validationn loss reduced from  2.887372 to 2.787484, saving model\n",
      "Epoch: 9 \tTraining Loss: 2.229731 \tValidation Loss: 2.772420. Time taken -63.87900710105896\n",
      "Validationn loss reduced from  2.787484 to 2.772420, saving model\n",
      "Epoch: 10 \tTraining Loss: 2.035368 \tValidation Loss: 2.758145. Time taken -63.996591329574585\n",
      "Validationn loss reduced from  2.772420 to 2.758145, saving model\n",
      "Epoch: 11 \tTraining Loss: 1.927000 \tValidation Loss: 2.750963. Time taken -63.817742347717285\n",
      "Validationn loss reduced from  2.758145 to 2.750963, saving model\n",
      "Epoch: 12 \tTraining Loss: 1.771853 \tValidation Loss: 2.780933. Time taken -63.62001085281372\n",
      "Epoch: 13 \tTraining Loss: 1.641359 \tValidation Loss: 2.776144. Time taken -63.63991451263428\n",
      "Epoch: 14 \tTraining Loss: 1.550699 \tValidation Loss: 2.768226. Time taken -63.7485191822052\n",
      "Epoch: 15 \tTraining Loss: 1.394158 \tValidation Loss: 2.766475. Time taken -63.7350869178772\n",
      "Epoch: 16 \tTraining Loss: 1.309784 \tValidation Loss: 2.800247. Time taken -63.4703164100647\n",
      "Epoch: 17 \tTraining Loss: 1.226604 \tValidation Loss: 2.927605. Time taken -63.73195266723633\n",
      "Epoch: 18 \tTraining Loss: 1.122615 \tValidation Loss: 2.807720. Time taken -63.748738050460815\n",
      "Epoch: 19 \tTraining Loss: 1.063475 \tValidation Loss: 2.947816. Time taken -63.89582347869873\n",
      "Epoch: 20 \tTraining Loss: 0.959979 \tValidation Loss: 2.928653. Time taken -63.90240693092346\n"
     ]
    }
   ],
   "source": [
    "def custom_weight_init(m):\n",
    "    ## TODO: implement a weight initialization strategy\n",
    "    if isinstance(m, nn.Conv2d):\n",
    "        n = m.kernel_size[0]*m.kernel_size[1]*m.in_channels\n",
    "        y = 1 / np.sqrt(n)\n",
    "        m.weight.data.normal_(0, y)\n",
    "        m.bias.data.fill_(0)\n",
    "    elif isinstance(m, nn.Linear):\n",
    "        y = 1/ np.sqrt(m.in_features)\n",
    "        m.weight.data.normal_(0, y)\n",
    "        m.bias.data.fill_(0)\n",
    "\n",
    "#-#-# Do NOT modify the code below this line. #-#-#\n",
    "\n",
    "model_scratch.apply(custom_weight_init)\n",
    "model_scratch = train(20, loaders_scratch, model_scratch, get_optimizer_scratch(model_scratch),\n",
    "                      criterion_scratch, use_cuda, 'ignore.pt')"
   ]
  },
  {
   "cell_type": "markdown",
   "metadata": {
    "id": "-b3Ib3bYS-vf"
   },
   "source": [
    "### (IMPLEMENTATION) Train and Validate the Model\n",
    "\n",
    "Run the next code cell to train your model."
   ]
  },
  {
   "cell_type": "code",
   "execution_count": 11,
   "metadata": {
    "colab": {
     "base_uri": "https://localhost:8080/",
     "height": 1000
    },
    "id": "tJMB7bUDS-vf",
    "outputId": "fade2db7-2182-4b04-be0d-e934aa225b0a"
   },
   "outputs": [
    {
     "name": "stdout",
     "output_type": "stream",
     "text": [
      "Epoch: 1 \tTraining Loss: 3.852005 \tValidation Loss: 3.642867. Time taken -63.841986656188965\n",
      "Validationn loss reduced from  inf to 3.642867, saving model\n",
      "Epoch: 2 \tTraining Loss: 3.566952 \tValidation Loss: 3.423414. Time taken -63.82070064544678\n",
      "Validationn loss reduced from  3.642867 to 3.423414, saving model\n",
      "Epoch: 3 \tTraining Loss: 3.378457 \tValidation Loss: 3.303780. Time taken -64.29261445999146\n",
      "Validationn loss reduced from  3.423414 to 3.303780, saving model\n",
      "Epoch: 4 \tTraining Loss: 3.249524 \tValidation Loss: 3.221670. Time taken -64.24712061882019\n",
      "Validationn loss reduced from  3.303780 to 3.221670, saving model\n",
      "Epoch: 5 \tTraining Loss: 3.074245 \tValidation Loss: 3.114138. Time taken -64.27734565734863\n",
      "Validationn loss reduced from  3.221670 to 3.114138, saving model\n",
      "Epoch: 6 \tTraining Loss: 2.907147 \tValidation Loss: 3.020241. Time taken -64.06990814208984\n",
      "Validationn loss reduced from  3.114138 to 3.020241, saving model\n",
      "Epoch: 7 \tTraining Loss: 2.759951 \tValidation Loss: 2.980787. Time taken -64.03784132003784\n",
      "Validationn loss reduced from  3.020241 to 2.980787, saving model\n",
      "Epoch: 8 \tTraining Loss: 2.620915 \tValidation Loss: 2.903618. Time taken -64.01957559585571\n",
      "Validationn loss reduced from  2.980787 to 2.903618, saving model\n",
      "Epoch: 9 \tTraining Loss: 2.496331 \tValidation Loss: 2.851767. Time taken -64.10482454299927\n",
      "Validationn loss reduced from  2.903618 to 2.851767, saving model\n",
      "Epoch: 10 \tTraining Loss: 2.368357 \tValidation Loss: 2.816979. Time taken -64.08918809890747\n",
      "Validationn loss reduced from  2.851767 to 2.816979, saving model\n",
      "Epoch: 11 \tTraining Loss: 2.236557 \tValidation Loss: 2.777134. Time taken -63.88945937156677\n",
      "Validationn loss reduced from  2.816979 to 2.777134, saving model\n",
      "Epoch: 12 \tTraining Loss: 2.089566 \tValidation Loss: 2.808198. Time taken -64.18198871612549\n",
      "Epoch: 13 \tTraining Loss: 2.010295 \tValidation Loss: 2.758671. Time taken -64.0542299747467\n",
      "Validationn loss reduced from  2.777134 to 2.758671, saving model\n",
      "Epoch: 14 \tTraining Loss: 1.864378 \tValidation Loss: 2.764330. Time taken -64.01338195800781\n",
      "Epoch: 15 \tTraining Loss: 1.772469 \tValidation Loss: 2.839012. Time taken -63.83089804649353\n",
      "Epoch: 16 \tTraining Loss: 1.663179 \tValidation Loss: 2.828418. Time taken -63.681456089019775\n",
      "Epoch: 17 \tTraining Loss: 1.585180 \tValidation Loss: 2.777962. Time taken -63.71254754066467\n",
      "Epoch: 18 \tTraining Loss: 1.492759 \tValidation Loss: 2.804439. Time taken -63.79773569107056\n",
      "Epoch: 19 \tTraining Loss: 1.402756 \tValidation Loss: 2.888432. Time taken -63.859729051589966\n",
      "Epoch: 20 \tTraining Loss: 1.292615 \tValidation Loss: 2.896509. Time taken -63.88364601135254\n",
      "Epoch: 21 \tTraining Loss: 1.221510 \tValidation Loss: 2.824965. Time taken -63.918773889541626\n",
      "Epoch: 22 \tTraining Loss: 1.149313 \tValidation Loss: 2.980290. Time taken -63.91295146942139\n"
     ]
    }
   ],
   "source": [
    "## TODO: you may change the number of epochs if you'd like,\n",
    "## but changing it is not required\n",
    "num_epochs = 22\n",
    "\n",
    "#-#-# Do NOT modify the code below this line. #-#-#\n",
    "\n",
    "# function to re-initialize a model with pytorch's default weight initialization\n",
    "def default_weight_init(m):\n",
    "    reset_parameters = getattr(m, 'reset_parameters', None)\n",
    "    if callable(reset_parameters):\n",
    "        m.reset_parameters()\n",
    "\n",
    "# reset the model parameters\n",
    "model_scratch.apply(default_weight_init)\n",
    "\n",
    "# train the model\n",
    "model_scratch = train(num_epochs, loaders_scratch, model_scratch, get_optimizer_scratch(model_scratch), \n",
    "                      criterion_scratch, use_cuda, 'model_scratch.pt')"
   ]
  },
  {
   "cell_type": "markdown",
   "metadata": {
    "id": "2NWX7Ex0S-vg"
   },
   "source": [
    "### (IMPLEMENTATION) Test the Model\n",
    "\n",
    "Run the code cell below to try out your model on the test dataset of landmark images. Run the code cell below to calculate and print the test loss and accuracy.  Ensure that your test accuracy is greater than 20%."
   ]
  },
  {
   "cell_type": "code",
   "execution_count": 12,
   "metadata": {
    "colab": {
     "base_uri": "https://localhost:8080/"
    },
    "executionInfo": {
     "elapsed": 27228,
     "status": "ok",
     "timestamp": 1632216642557,
     "user": {
      "displayName": "Nandeshwar Gupta",
      "photoUrl": "https://lh3.googleusercontent.com/a-/AOh14GjIXGwdxcuLh8UU0gGo-MpPzGduTnXJoNDTm0sJiGY=s64",
      "userId": "18345196180311839276"
     },
     "user_tz": -330
    },
    "id": "rftxjCPWS-vg",
    "outputId": "bcc9c9c2-9bef-4a4d-b630-3cc81b97c833"
   },
   "outputs": [
    {
     "name": "stdout",
     "output_type": "stream",
     "text": [
      "Test Loss: 2.642789\n",
      "\n",
      "\n",
      "Test Accuracy: 37% (463/1250)\n"
     ]
    }
   ],
   "source": [
    "def test(loaders, model, criterion, use_cuda):\n",
    "\n",
    "    # monitor test loss and accuracy\n",
    "    test_loss = 0.\n",
    "    correct = 0.\n",
    "    total = 0.\n",
    "\n",
    "    # set the module to evaluation mode\n",
    "    model.eval()\n",
    "\n",
    "    for batch_idx, (data, target) in enumerate(loaders['test']):\n",
    "        # move to GPU\n",
    "        if use_cuda:\n",
    "            data, target = data.cuda(), target.cuda()\n",
    "        # forward pass: compute predicted outputs by passing inputs to the model\n",
    "        output = model(data)\n",
    "        # calculate the loss\n",
    "        loss = criterion(output, target)\n",
    "        # update average test loss \n",
    "        test_loss = test_loss + ((1 / (batch_idx + 1)) * (loss.data.item() - test_loss))\n",
    "        # convert output probabilities to predicted class\n",
    "        pred = output.data.max(1, keepdim=True)[1]\n",
    "        # compare predictions to true label\n",
    "        correct += np.sum(np.squeeze(pred.eq(target.data.view_as(pred))).cpu().numpy())\n",
    "        total += data.size(0)\n",
    "            \n",
    "    print('Test Loss: {:.6f}\\n'.format(test_loss))\n",
    "\n",
    "    print('\\nTest Accuracy: %2d%% (%2d/%2d)' % (\n",
    "        100. * correct / total, correct, total))\n",
    "\n",
    "# load the model that got the best validation accuracy\n",
    "model_scratch.load_state_dict(torch.load('model_scratch.pt'))\n",
    "test(loaders_scratch, model_scratch, criterion_scratch, use_cuda)"
   ]
  },
  {
   "cell_type": "markdown",
   "metadata": {
    "id": "blXgRKxaS-vg"
   },
   "source": [
    "---\n",
    "<a id='step2'></a>\n",
    "## Step 2: Create a CNN to Classify Landmarks (using Transfer Learning)\n",
    "\n",
    "You will now use transfer learning to create a CNN that can identify landmarks from images.  Your CNN must attain at least 60% accuracy on the test set.\n",
    "\n",
    "### (IMPLEMENTATION) Specify Data Loaders for the Landmark Dataset\n",
    "\n",
    "Use the code cell below to create three separate [data loaders](http://pytorch.org/docs/stable/data.html#torch.utils.data.DataLoader): one for training data, one for validation data, and one for test data. Randomly split the images located at `landmark_images/train` to create the train and validation data loaders, and use the images located at `landmark_images/test` to create the test data loader.\n",
    "\n",
    "All three of your data loaders should be accessible via a dictionary named `loaders_transfer`. Your train data loader should be at `loaders_transfer['train']`, your validation data loader should be at `loaders_transfer['valid']`, and your test data loader should be at `loaders_transfer['test']`.\n",
    "\n",
    "If you like, **you are welcome to use the same data loaders from the previous step**, when you created a CNN from scratch."
   ]
  },
  {
   "cell_type": "code",
   "execution_count": 18,
   "metadata": {
    "id": "ZNZervDdS-vh"
   },
   "outputs": [],
   "source": [
    "### TODO: Write data loaders for training, validation, and test sets\n",
    "## Specify appropriate transforms, and batch_sizes\n",
    "\n",
    "params['BATCH_SIZE'] = 64\n",
    "\n",
    "loaders_transfer = {'train': None, 'valid': None, 'test': None}\n",
    "\n",
    "transform = transforms.Compose([\n",
    "                                transforms.ToTensor(),\n",
    "                                transforms.Resize(size=(224, 224)),\n",
    "                                transforms.RandomHorizontalFlip(0.2),\n",
    "                                transforms.RandomRotation(10),\n",
    "                                transforms.Normalize([0.485, 0.456, 0.406], [0.229, 0.224, 0.225]),\n",
    "])\n",
    "\n",
    "train_dataset = datasets.ImageFolder(\"../data/landmark_images/train\", transform=transform)\n",
    "test_dataset = datasets.ImageFolder(\"../data/landmark_images/test\", transform=transform)\n",
    "\n",
    "targets = train_dataset.targets\n",
    "train_idx, validation_idx = train_test_split(\n",
    "    np.arange(len(targets)),\n",
    "    test_size=params['TEST_SIZE'],\n",
    "    shuffle=True,\n",
    "    random_state=params['SEED'],\n",
    "    stratify=targets)\n",
    "\n",
    "# generate subset based on indices\n",
    "train_split = Subset(train_dataset, train_idx)\n",
    "validation_split = Subset(train_dataset, validation_idx)\n",
    "\n",
    "loaders_transfer['train'] = DataLoader(train_split, batch_size=params['BATCH_SIZE'])\n",
    "loaders_transfer['valid'] = DataLoader(validation_split, batch_size=params['BATCH_SIZE'])\n",
    "loaders_transfer['test'] = DataLoader(test_dataset, batch_size=params['BATCH_SIZE'])"
   ]
  },
  {
   "cell_type": "markdown",
   "metadata": {
    "id": "XTUjpYO8S-vh"
   },
   "source": [
    "### (IMPLEMENTATION) Specify Loss Function and Optimizer\n",
    "\n",
    "Use the next code cell to specify a [loss function](http://pytorch.org/docs/stable/nn.html#loss-functions) and [optimizer](http://pytorch.org/docs/stable/optim.html).  Save the chosen loss function as `criterion_transfer`, and fill in the function `get_optimizer_transfer` below."
   ]
  },
  {
   "cell_type": "code",
   "execution_count": 19,
   "metadata": {
    "id": "h_FjfzJJS-vh"
   },
   "outputs": [],
   "source": [
    "## TODO: select loss function\n",
    "criterion_transfer = nn.CrossEntropyLoss()\n",
    "\n",
    "\n",
    "def get_optimizer_transfer(model):\n",
    "    ## TODO: select and return optimizer\n",
    "    optimizer = torch.optim.Adam(model.parameters(), lr=0.0001)\n",
    "    return optimizer   \n"
   ]
  },
  {
   "cell_type": "markdown",
   "metadata": {
    "id": "4jYFvLY_S-vh"
   },
   "source": [
    "### (IMPLEMENTATION) Model Architecture\n",
    "\n",
    "Use transfer learning to create a CNN to classify images of landmarks.  Use the code cell below, and save your initialized model as the variable `model_transfer`."
   ]
  },
  {
   "cell_type": "code",
   "execution_count": 20,
   "metadata": {
    "id": "yAg0Kr0oS-vi",
    "tags": []
   },
   "outputs": [],
   "source": [
    "## TODO: Specify model architecture\n",
    "\n",
    "model_transfer = models.resnet18(pretrained=True)\n",
    "\n",
    "for param in model_transfer.parameters():\n",
    "    param.requires_grad = False\n",
    "\n",
    "num_in_features = model_transfer.fc.in_features\n",
    "model_transfer.fc = nn.Sequential(\n",
    "                        nn.Linear(num_in_features, 512),\n",
    "                        nn.ReLU(),\n",
    "                        nn.Dropout(0.5),\n",
    "                        nn.Linear(512, 50),\n",
    "                )\n",
    "    \n",
    "#-#-# Do NOT modify the code below this line. #-#-#\n",
    "\n",
    "if use_cuda:\n",
    "    model_transfer = model_transfer.cuda()"
   ]
  },
  {
   "cell_type": "markdown",
   "metadata": {
    "id": "q72_RQsOS-vi"
   },
   "source": [
    "__Question 3:__ Outline the steps you took to get to your final CNN architecture and your reasoning at each step.  Describe why you think the architecture is suitable for the current problem."
   ]
  },
  {
   "cell_type": "markdown",
   "metadata": {
    "id": "dy4wsd6mS-vi"
   },
   "source": [
    "__Answer:__\n",
    "1. I chose Resnet18 for transfer learning as it provides robust outcomes and is predominant in industry\n",
    "2. I freeze the parameters for finetuning of the network\n",
    "3. At last I replace linear layer with two fully connected layers and change parameters according to our use case.\n",
    "4. Shift model to Cuda\n",
    "\n",
    "The model is suitable for current problem becasue Residual Networks try to cover deeper relationships between the features and resnet18 is also the smallest of the breed which is suitable for our use case for now"
   ]
  },
  {
   "cell_type": "markdown",
   "metadata": {
    "id": "_lOxG56vS-vi"
   },
   "source": [
    "### (IMPLEMENTATION) Train and Validate the Model\n",
    "\n",
    "Train and validate your model in the code cell below.  [Save the final model parameters](http://pytorch.org/docs/master/notes/serialization.html) at filepath `'model_transfer.pt'`."
   ]
  },
  {
   "cell_type": "code",
   "execution_count": 21,
   "metadata": {
    "id": "6wKFm6JxS-vi"
   },
   "outputs": [
    {
     "name": "stdout",
     "output_type": "stream",
     "text": [
      "Epoch 0 || Training Loss = 3.871344980192626 || Validation Loss = 3.7193381042480467 || Time taken -59.960062742233276\n",
      "Validation loss decreased .. saving model ..\n",
      "Epoch 1 || Training Loss = 3.625741354608524 || Validation Loss = 3.4559649333953857 || Time taken -59.98501014709473\n",
      "Validation loss decreased .. saving model ..\n",
      "Epoch 2 || Training Loss = 3.35288367887005 || Validation Loss = 3.1504970111846924 || Time taken -59.993042945861816\n",
      "Validation loss decreased .. saving model ..\n",
      "Epoch 3 || Training Loss = 3.059916733681395 || Validation Loss = 2.8490817451477053 || Time taken -60.02262854576111\n",
      "Validation loss decreased .. saving model ..\n",
      "Epoch 4 || Training Loss = 2.7950583204556203 || Validation Loss = 2.5800041694641114 || Time taken -59.938199043273926\n",
      "Validation loss decreased .. saving model ..\n",
      "Epoch 5 || Training Loss = 2.5615683797898816 || Validation Loss = 2.3797419395446777 || Time taken -60.02009415626526\n",
      "Validation loss decreased .. saving model ..\n",
      "Epoch 6 || Training Loss = 2.379788003088326 || Validation Loss = 2.2169950428009035 || Time taken -59.95993494987488\n",
      "Validation loss decreased .. saving model ..\n",
      "Epoch 7 || Training Loss = 2.218598932154572 || Validation Loss = 2.071679079055786 || Time taken -60.01188850402832\n",
      "Validation loss decreased .. saving model ..\n",
      "Epoch 8 || Training Loss = 2.112465643811172 || Validation Loss = 1.991716091156006 || Time taken -59.97525906562805\n",
      "Validation loss decreased .. saving model ..\n",
      "Epoch 9 || Training Loss = 1.9961345978370153 || Validation Loss = 1.9001157112121583 || Time taken -60.10737729072571\n",
      "Validation loss decreased .. saving model ..\n",
      "Epoch 10 || Training Loss = 1.9189940305062763 || Validation Loss = 1.8192408075332642 || Time taken -60.13302946090698\n",
      "Validation loss decreased .. saving model ..\n",
      "Epoch 11 || Training Loss = 1.8556971651093495 || Validation Loss = 1.767175832748413 || Time taken -60.02939057350159\n",
      "Validation loss decreased .. saving model ..\n",
      "Epoch 12 || Training Loss = 1.7804555493591725 || Validation Loss = 1.7038173427581786 || Time taken -59.99315619468689\n",
      "Validation loss decreased .. saving model ..\n",
      "Epoch 13 || Training Loss = 1.7236678682627427 || Validation Loss = 1.6739204998016357 || Time taken -60.15057420730591\n",
      "Validation loss decreased .. saving model ..\n",
      "Epoch 14 || Training Loss = 1.6521587407914047 || Validation Loss = 1.612812162399292 || Time taken -59.80136466026306\n",
      "Validation loss decreased .. saving model ..\n",
      "Epoch 15 || Training Loss = 1.627447077474625 || Validation Loss = 1.5798058862686157 || Time taken -59.813711643218994\n",
      "Validation loss decreased .. saving model ..\n",
      "Epoch 16 || Training Loss = 1.5866679218312278 || Validation Loss = 1.5477317361831664 || Time taken -59.96678686141968\n",
      "Validation loss decreased .. saving model ..\n",
      "Epoch 17 || Training Loss = 1.5408650638462456 || Validation Loss = 1.5101216659545897 || Time taken -59.98358941078186\n",
      "Validation loss decreased .. saving model ..\n",
      "Epoch 18 || Training Loss = 1.4868768609581156 || Validation Loss = 1.4971080102920533 || Time taken -59.777249813079834\n",
      "Validation loss decreased .. saving model ..\n",
      "Epoch 19 || Training Loss = 1.4740280940110964 || Validation Loss = 1.4783846445083617 || Time taken -59.77910852432251\n",
      "Validation loss decreased .. saving model ..\n",
      "Epoch 20 || Training Loss = 1.4443831747998468 || Validation Loss = 1.438748496055603 || Time taken -59.742985248565674\n",
      "Validation loss decreased .. saving model ..\n",
      "Epoch 21 || Training Loss = 1.4242719302989855 || Validation Loss = 1.442112257003784 || Time taken -59.76158595085144\n",
      "Epoch 22 || Training Loss = 1.3749289671898126 || Validation Loss = 1.3990476064682007 || Time taken -59.85742425918579\n",
      "Validation loss decreased .. saving model ..\n",
      "Epoch 23 || Training Loss = 1.3524677717658857 || Validation Loss = 1.402616439819336 || Time taken -59.700188636779785\n",
      "Epoch 24 || Training Loss = 1.3509544516641676 || Validation Loss = 1.3971881675720215 || Time taken -59.792585372924805\n",
      "Validation loss decreased .. saving model ..\n",
      "Epoch 25 || Training Loss = 1.3168525561887918 || Validation Loss = 1.369876519203186 || Time taken -59.73904824256897\n",
      "Validation loss decreased .. saving model ..\n",
      "Epoch 26 || Training Loss = 1.2828330754010953 || Validation Loss = 1.3628173885345458 || Time taken -59.71836471557617\n",
      "Validation loss decreased .. saving model ..\n",
      "Epoch 27 || Training Loss = 1.2717071962947095 || Validation Loss = 1.3471164169311522 || Time taken -59.718167304992676\n",
      "Validation loss decreased .. saving model ..\n",
      "Epoch 28 || Training Loss = 1.2503188264378913 || Validation Loss = 1.3513394165039063 || Time taken -59.78216314315796\n",
      "Epoch 29 || Training Loss = 1.21223121735344 || Validation Loss = 1.3305298624038697 || Time taken -59.73695778846741\n",
      "Validation loss decreased .. saving model ..\n",
      "Epoch 30 || Training Loss = 1.2083494061823634 || Validation Loss = 1.3198774299621583 || Time taken -59.78416180610657\n",
      "Validation loss decreased .. saving model ..\n",
      "Epoch 31 || Training Loss = 1.196407883293127 || Validation Loss = 1.3162524871826171 || Time taken -59.779778242111206\n",
      "Validation loss decreased .. saving model ..\n",
      "Epoch 32 || Training Loss = 1.184591722899984 || Validation Loss = 1.2951120204925537 || Time taken -59.908801317214966\n",
      "Validation loss decreased .. saving model ..\n",
      "Epoch 33 || Training Loss = 1.1548810810305519 || Validation Loss = 1.3078068752288818 || Time taken -59.88561987876892\n",
      "Epoch 34 || Training Loss = 1.135913087706104 || Validation Loss = 1.2803733043670655 || Time taken -59.94713377952576\n",
      "Validation loss decreased .. saving model ..\n",
      "Epoch 35 || Training Loss = 1.1417047967008869 || Validation Loss = 1.2853985986709595 || Time taken -59.814793825149536\n",
      "Epoch 36 || Training Loss = 1.1328365324675098 || Validation Loss = 1.2447037258148193 || Time taken -59.86058592796326\n",
      "Validation loss decreased .. saving model ..\n",
      "Epoch 37 || Training Loss = 1.1052798896334546 || Validation Loss = 1.27241388130188 || Time taken -59.89663314819336\n",
      "Epoch 38 || Training Loss = 1.1052648827288192 || Validation Loss = 1.2818948574066162 || Time taken -59.94463276863098\n",
      "Epoch 39 || Training Loss = 1.0721304077848006 || Validation Loss = 1.2609193983078002 || Time taken -59.87599301338196\n",
      "Epoch 40 || Training Loss = 1.078656428600509 || Validation Loss = 1.2323709678649903 || Time taken -59.807528018951416\n",
      "Validation loss decreased .. saving model ..\n",
      "Epoch 41 || Training Loss = 1.047621356522348 || Validation Loss = 1.2580628910064697 || Time taken -59.78133749961853\n",
      "Epoch 42 || Training Loss = 1.0415590989133374 || Validation Loss = 1.2289713172912597 || Time taken -59.79427933692932\n",
      "Validation loss decreased .. saving model ..\n",
      "Epoch 43 || Training Loss = 1.0382850542496764 || Validation Loss = 1.2519422082901002 || Time taken -59.76176738739014\n",
      "Epoch 44 || Training Loss = 1.0074735178272218 || Validation Loss = 1.2373953332901002 || Time taken -59.75979161262512\n",
      "Epoch 45 || Training Loss = 1.0198213577807351 || Validation Loss = 1.227612307548523 || Time taken -59.74597930908203\n",
      "Validation loss decreased .. saving model ..\n",
      "Epoch 46 || Training Loss = 0.9950397366996643 || Validation Loss = 1.198945620536804 || Time taken -59.82437443733215\n",
      "Validation loss decreased .. saving model ..\n",
      "Epoch 47 || Training Loss = 0.9891837560328239 || Validation Loss = 1.2204895524978638 || Time taken -59.81219744682312\n",
      "Epoch 48 || Training Loss = 0.9896799322065783 || Validation Loss = 1.229586187362671 || Time taken -59.76673913002014\n",
      "Epoch 49 || Training Loss = 0.975037041070135 || Validation Loss = 1.222000111579895 || Time taken -59.745442628860474\n",
      "Epoch 50 || Training Loss = 0.9794211208089638 || Validation Loss = 1.2249691381454468 || Time taken -59.78572058677673\n",
      "Epoch 51 || Training Loss = 0.9429471133678056 || Validation Loss = 1.1912203378677368 || Time taken -59.78731155395508\n",
      "Validation loss decreased .. saving model ..\n",
      "Epoch 52 || Training Loss = 0.9466849012407088 || Validation Loss = 1.2082018699645996 || Time taken -59.75248384475708\n",
      "Epoch 53 || Training Loss = 0.9273436626464628 || Validation Loss = 1.1955961551666259 || Time taken -59.70743727684021\n",
      "Epoch 54 || Training Loss = 0.9315035830356492 || Validation Loss = 1.201765739440918 || Time taken -59.79501032829285\n",
      "Epoch 55 || Training Loss = 0.9221226081554073 || Validation Loss = 1.2064114112854003 || Time taken -59.691659688949585\n",
      "Epoch 56 || Training Loss = 0.891376928803561 || Validation Loss = 1.1976073665618896 || Time taken -59.7053382396698\n",
      "Epoch 57 || Training Loss = 0.8945211402797866 || Validation Loss = 1.189624499320984 || Time taken -59.723992109298706\n",
      "Validation loss decreased .. saving model ..\n",
      "Epoch 58 || Training Loss = 0.8962508314977684 || Validation Loss = 1.1930850477218629 || Time taken -59.68157458305359\n",
      "Epoch 59 || Training Loss = 0.8884307310257311 || Validation Loss = 1.1754743375778198 || Time taken -59.67235493659973\n",
      "Validation loss decreased .. saving model ..\n",
      "Epoch 60 || Training Loss = 0.8940336468639092 || Validation Loss = 1.2030199794769287 || Time taken -59.70615601539612\n",
      "Epoch 61 || Training Loss = 0.8433815434720476 || Validation Loss = 1.185900686264038 || Time taken -59.66429114341736\n",
      "Epoch 62 || Training Loss = 0.8701052787991682 || Validation Loss = 1.1954167499542236 || Time taken -59.7228262424469\n",
      "Epoch 63 || Training Loss = 0.8715596722086161 || Validation Loss = 1.1814218292236327 || Time taken -59.67318654060364\n",
      "Epoch 64 || Training Loss = 0.8411846754176335 || Validation Loss = 1.2061435012817383 || Time taken -59.65973615646362\n",
      "Epoch 65 || Training Loss = 0.8421806284851631 || Validation Loss = 1.156106382369995 || Time taken -59.730812072753906\n",
      "Validation loss decreased .. saving model ..\n",
      "Epoch 66 || Training Loss = 0.8459398716367541 || Validation Loss = 1.1863549947738647 || Time taken -59.651153802871704\n",
      "Epoch 67 || Training Loss = 0.8232176516364448 || Validation Loss = 1.1997533988952638 || Time taken -59.67491555213928\n",
      "Epoch 68 || Training Loss = 0.8163000200580351 || Validation Loss = 1.1663623428344727 || Time taken -59.78836107254028\n",
      "Epoch 69 || Training Loss = 0.8175927490063062 || Validation Loss = 1.1689527225494385 || Time taken -59.864253759384155\n"
     ]
    },
    {
     "data": {
      "text/plain": [
       "<All keys matched successfully>"
      ]
     },
     "execution_count": 21,
     "metadata": {},
     "output_type": "execute_result"
    }
   ],
   "source": [
    "# TODO: train the model and save the best model parameters at filepath 'model_transfer.pt'\n",
    "\n",
    "def train_transfer(*, model, criterion, loaders, epochs=1, optimizer):\n",
    "    epochs = epochs\n",
    "\n",
    "    epoch_running_train_loss = []\n",
    "    epoch_running_validation_loss = []\n",
    "    best_validation_loss = np.Inf\n",
    "\n",
    "    for epoch in range(epochs):\n",
    "        start_time = time.time()\n",
    "\n",
    "        batch_train_loss = 0.0\n",
    "        batch_validation_loss = 0.0\n",
    "        \n",
    "#         print(\"In batch\")\n",
    "        model.train()\n",
    "        for inputs, labels in loaders['train']:\n",
    "            \n",
    "            if use_cuda:\n",
    "                inputs, labels = inputs.cuda(), labels.cuda()\n",
    "\n",
    "            model.zero_grad()\n",
    "\n",
    "            outputs = model(inputs)\n",
    "            loss = criterion(outputs, labels)\n",
    "\n",
    "            batch_train_loss += loss.item() * inputs.size(0)\n",
    "\n",
    "            loss.backward()\n",
    "            optimizer.step()\n",
    "            \n",
    "#         print(\"In validation\")\n",
    "        model.eval()\n",
    "        with torch.no_grad():\n",
    "            for inputs, labels in loaders['valid']:\n",
    "                if use_cuda:\n",
    "                    inputs, labels = inputs.cuda(), labels.cuda()\n",
    "                \n",
    "                outputs = model(inputs)\n",
    "                loss = criterion(outputs, labels)\n",
    "\n",
    "                batch_validation_loss += loss.item() * inputs.size(0)\n",
    "        \n",
    "        epoch_train_loss = batch_train_loss/len(loaders['train'].dataset)\n",
    "        epoch_validation_loss = batch_validation_loss/len(loaders['valid'].dataset)\n",
    "        \n",
    "        print(f\"Epoch {epoch} || Training Loss = {epoch_train_loss} || Validation Loss = {epoch_validation_loss} || Time taken {start_time - time.time()}\")\n",
    "        \n",
    "        epoch_running_train_loss.append(epoch_train_loss)\n",
    "        epoch_running_validation_loss.append(epoch_validation_loss)\n",
    "\n",
    "        if best_validation_loss > epoch_validation_loss:\n",
    "            print(\"Validation loss decreased .. saving model ..\")\n",
    "            torch.save(model.state_dict(), 'model_transfer.pt')\n",
    "            best_validation_loss = epoch_validation_loss\n",
    "    \n",
    "    return epoch_running_train_loss, epoch_running_validation_loss\n",
    "        \n",
    "losses = train_transfer(model=model_transfer, epochs=70, loaders=loaders_transfer, optimizer=get_optimizer_transfer(model_transfer), criterion=criterion_transfer)\n",
    "\n",
    "\n",
    "#-#-# Do NOT modify the code below this line. #-#-#\n",
    "\n",
    "# load the model that got the best validation accuracy\n",
    "model_transfer.load_state_dict(torch.load('model_transfer.pt'))"
   ]
  },
  {
   "cell_type": "markdown",
   "metadata": {
    "id": "CzrPRFoBS-vi"
   },
   "source": [
    "### (IMPLEMENTATION) Test the Model\n",
    "\n",
    "Try out your model on the test dataset of landmark images. Use the code cell below to calculate and print the test loss and accuracy.  Ensure that your test accuracy is greater than 60%."
   ]
  },
  {
   "cell_type": "code",
   "execution_count": 22,
   "metadata": {
    "id": "Qcv_fzN4S-vj"
   },
   "outputs": [
    {
     "name": "stdout",
     "output_type": "stream",
     "text": [
      "Test Loss: 1.113806\n",
      "\n",
      "\n",
      "Test Accuracy: 70% (883/1250)\n"
     ]
    }
   ],
   "source": [
    "test(loaders_transfer, model_transfer, criterion_transfer, use_cuda)"
   ]
  },
  {
   "cell_type": "markdown",
   "metadata": {
    "id": "yQGBA_CJS-vj"
   },
   "source": [
    "---\n",
    "<a id='step3'></a>\n",
    "## Step 3: Write Your Landmark Prediction Algorithm\n",
    "\n",
    "Great job creating your CNN models! Now that you have put in all the hard work of creating accurate classifiers, let's define some functions to make it easy for others to use your classifiers.\n",
    "\n",
    "### (IMPLEMENTATION) Write Your Algorithm, Part 1\n",
    "\n",
    "Implement the function `predict_landmarks`, which accepts a file path to an image and an integer k, and then predicts the **top k most likely landmarks**. You are **required** to use your transfer learned CNN from Step 2 to predict the landmarks.\n",
    "\n",
    "An example of the expected behavior of `predict_landmarks`:\n",
    "```\n",
    ">>> predicted_landmarks = predict_landmarks('example_image.jpg', 3)\n",
    ">>> print(predicted_landmarks)\n",
    "['Golden Gate Bridge', 'Brooklyn Bridge', 'Sydney Harbour Bridge']\n",
    "```"
   ]
  },
  {
   "cell_type": "code",
   "execution_count": null,
   "metadata": {
    "id": "gfNHpSYZS-vj"
   },
   "outputs": [],
   "source": [
    "import cv2\n",
    "from PIL import Image\n",
    "\n",
    "## the class names can be accessed at the `classes` attribute\n",
    "## of your dataset object (e.g., `train_dataset.classes`)\n",
    "\n",
    "def predict_landmarks(img_path, k):\n",
    "    ## TODO: return the names of the top k landmarks predicted by the transfer learned CNN\n",
    "    \n",
    "\n",
    "\n",
    "# test on a sample image\n",
    "predict_landmarks('images/test/09.Golden_Gate_Bridge/190f3bae17c32c37.jpg', 5)"
   ]
  },
  {
   "cell_type": "markdown",
   "metadata": {
    "id": "vwGfpmIqS-vj"
   },
   "source": [
    "### (IMPLEMENTATION) Write Your Algorithm, Part 2\n",
    "\n",
    "In the code cell below, implement the function `suggest_locations`, which accepts a file path to an image as input, and then displays the image and the **top 3 most likely landmarks** as predicted by `predict_landmarks`.\n",
    "\n",
    "Some sample output for `suggest_locations` is provided below, but feel free to design your own user experience!\n",
    "![](images/sample_landmark_output.png)"
   ]
  },
  {
   "cell_type": "code",
   "execution_count": null,
   "metadata": {
    "id": "99wZoGZfS-vj"
   },
   "outputs": [],
   "source": [
    "def suggest_locations(img_path):\n",
    "    # get landmark predictions\n",
    "    predicted_landmarks = predict_landmarks(img_path, 3)\n",
    "    \n",
    "    ## TODO: display image and display landmark predictions\n",
    "\n",
    "    \n",
    "    \n",
    "\n",
    "# test on a sample image\n",
    "suggest_locations('images/test/09.Golden_Gate_Bridge/190f3bae17c32c37.jpg')"
   ]
  },
  {
   "cell_type": "markdown",
   "metadata": {
    "id": "Yf8ughUHS-vk"
   },
   "source": [
    "### (IMPLEMENTATION) Test Your Algorithm\n",
    "\n",
    "Test your algorithm by running the `suggest_locations` function on at least four images on your computer. Feel free to use any images you like.\n",
    "\n",
    "__Question 4:__ Is the output better than you expected :) ?  Or worse :( ?  Provide at least three possible points of improvement for your algorithm."
   ]
  },
  {
   "cell_type": "markdown",
   "metadata": {
    "id": "P3oeJWPyS-vk"
   },
   "source": [
    "__Answer:__ (Three possible points for improvement)"
   ]
  },
  {
   "cell_type": "code",
   "execution_count": null,
   "metadata": {
    "id": "e6iaee5bS-vk"
   },
   "outputs": [],
   "source": [
    "## TODO: Execute the `suggest_locations` function on\n",
    "## at least 4 images on your computer.\n",
    "## Feel free to use as many code cells as needed.\n",
    "\n"
   ]
  }
 ],
 "metadata": {
  "accelerator": "GPU",
  "colab": {
   "collapsed_sections": [],
   "name": "landmark.ipynb",
   "provenance": []
  },
  "interpreter": {
   "hash": "b70543df3d2973ae2be6f83cc6af1942594ddd47a50a2ea929bbb8089898e286"
  },
  "kernelspec": {
   "display_name": "Python 3",
   "language": "python",
   "name": "python3"
  },
  "language_info": {
   "codemirror_mode": {
    "name": "ipython",
    "version": 3
   },
   "file_extension": ".py",
   "mimetype": "text/x-python",
   "name": "python",
   "nbconvert_exporter": "python",
   "pygments_lexer": "ipython3",
   "version": "3.8.5"
  }
 },
 "nbformat": 4,
 "nbformat_minor": 4
}
